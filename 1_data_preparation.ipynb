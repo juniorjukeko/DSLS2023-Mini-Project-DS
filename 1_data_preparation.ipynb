{
 "cells": [
  {
   "cell_type": "code",
   "execution_count": 1,
   "metadata": {},
   "outputs": [],
   "source": [
    "import pandas as pd\n",
    "import numpy as np\n",
    "import missingno as msno\n",
    "pd.set_option('display.max_rows', 500)"
   ]
  },
  {
   "attachments": {},
   "cell_type": "markdown",
   "metadata": {},
   "source": [
    "# **1. Data Preparation**"
   ]
  },
  {
   "attachments": {},
   "cell_type": "markdown",
   "metadata": {},
   "source": [
    "## **A. Read the Data**"
   ]
  },
  {
   "cell_type": "code",
   "execution_count": 2,
   "metadata": {},
   "outputs": [
    {
     "data": {
      "text/plain": [
       "(34921, 6)"
      ]
     },
     "execution_count": 2,
     "metadata": {},
     "output_type": "execute_result"
    }
   ],
   "source": [
    "jams_cimahi = pd.read_csv(\"Dataset/aggregate_median_jams_Kota Cimahi.csv\")\n",
    "# Select relevant columns\n",
    "jams_cimahi = jams_cimahi[['id', 'time', 'date', 'street','median_speed_kmh', 'geometry']]\n",
    "jams_cimahi.shape"
   ]
  },
  {
   "cell_type": "code",
   "execution_count": 3,
   "metadata": {},
   "outputs": [
    {
     "data": {
      "text/html": [
       "<div>\n",
       "<style scoped>\n",
       "    .dataframe tbody tr th:only-of-type {\n",
       "        vertical-align: middle;\n",
       "    }\n",
       "\n",
       "    .dataframe tbody tr th {\n",
       "        vertical-align: top;\n",
       "    }\n",
       "\n",
       "    .dataframe thead th {\n",
       "        text-align: right;\n",
       "    }\n",
       "</style>\n",
       "<table border=\"1\" class=\"dataframe\">\n",
       "  <thead>\n",
       "    <tr style=\"text-align: right;\">\n",
       "      <th></th>\n",
       "      <th>id</th>\n",
       "      <th>time</th>\n",
       "      <th>date</th>\n",
       "      <th>street</th>\n",
       "      <th>median_speed_kmh</th>\n",
       "      <th>geometry</th>\n",
       "    </tr>\n",
       "  </thead>\n",
       "  <tbody>\n",
       "    <tr>\n",
       "      <th>0</th>\n",
       "      <td>33487712</td>\n",
       "      <td>2022-07-06 00:00:00.000</td>\n",
       "      <td>2022-07-06</td>\n",
       "      <td>Tol Padaleunyi</td>\n",
       "      <td>37.080</td>\n",
       "      <td>MULTILINESTRING ((107.534217 -6.902122, 107.53...</td>\n",
       "    </tr>\n",
       "    <tr>\n",
       "      <th>1</th>\n",
       "      <td>33487711</td>\n",
       "      <td>2022-07-06 00:00:00.000</td>\n",
       "      <td>2022-07-06</td>\n",
       "      <td>Tol Padaleunyi</td>\n",
       "      <td>51.020</td>\n",
       "      <td>LINESTRING (107.534217 -6.902122, 107.534668 -...</td>\n",
       "    </tr>\n",
       "    <tr>\n",
       "      <th>2</th>\n",
       "      <td>33487713</td>\n",
       "      <td>2022-07-06 02:00:00.000</td>\n",
       "      <td>2022-07-06</td>\n",
       "      <td>Gerbang Tol Pasteur 2</td>\n",
       "      <td>7.610</td>\n",
       "      <td>MULTILINESTRING ((107.572891 -6.889988, 107.57...</td>\n",
       "    </tr>\n",
       "    <tr>\n",
       "      <th>3</th>\n",
       "      <td>33487714</td>\n",
       "      <td>2022-07-06 02:00:00.000</td>\n",
       "      <td>2022-07-06</td>\n",
       "      <td>Tol Padaleunyi</td>\n",
       "      <td>55.690</td>\n",
       "      <td>LINESTRING (107.504788 -6.856284, 107.504752 -...</td>\n",
       "    </tr>\n",
       "    <tr>\n",
       "      <th>4</th>\n",
       "      <td>33487715</td>\n",
       "      <td>2022-07-06 05:00:00.000</td>\n",
       "      <td>2022-07-06</td>\n",
       "      <td>Babakan Loa</td>\n",
       "      <td>5.605</td>\n",
       "      <td>MULTILINESTRING ((107.565449 -6.884513, 107.56...</td>\n",
       "    </tr>\n",
       "  </tbody>\n",
       "</table>\n",
       "</div>"
      ],
      "text/plain": [
       "         id                     time        date                 street  \\\n",
       "0  33487712  2022-07-06 00:00:00.000  2022-07-06         Tol Padaleunyi   \n",
       "1  33487711  2022-07-06 00:00:00.000  2022-07-06         Tol Padaleunyi   \n",
       "2  33487713  2022-07-06 02:00:00.000  2022-07-06  Gerbang Tol Pasteur 2   \n",
       "3  33487714  2022-07-06 02:00:00.000  2022-07-06         Tol Padaleunyi   \n",
       "4  33487715  2022-07-06 05:00:00.000  2022-07-06            Babakan Loa   \n",
       "\n",
       "   median_speed_kmh                                           geometry  \n",
       "0            37.080  MULTILINESTRING ((107.534217 -6.902122, 107.53...  \n",
       "1            51.020  LINESTRING (107.534217 -6.902122, 107.534668 -...  \n",
       "2             7.610  MULTILINESTRING ((107.572891 -6.889988, 107.57...  \n",
       "3            55.690  LINESTRING (107.504788 -6.856284, 107.504752 -...  \n",
       "4             5.605  MULTILINESTRING ((107.565449 -6.884513, 107.56...  "
      ]
     },
     "execution_count": 3,
     "metadata": {},
     "output_type": "execute_result"
    }
   ],
   "source": [
    "jams_cimahi.head()"
   ]
  },
  {
   "cell_type": "code",
   "execution_count": 4,
   "metadata": {},
   "outputs": [
    {
     "data": {
      "text/html": [
       "<div>\n",
       "<style scoped>\n",
       "    .dataframe tbody tr th:only-of-type {\n",
       "        vertical-align: middle;\n",
       "    }\n",
       "\n",
       "    .dataframe tbody tr th {\n",
       "        vertical-align: top;\n",
       "    }\n",
       "\n",
       "    .dataframe thead th {\n",
       "        text-align: right;\n",
       "    }\n",
       "</style>\n",
       "<table border=\"1\" class=\"dataframe\">\n",
       "  <thead>\n",
       "    <tr style=\"text-align: right;\">\n",
       "      <th></th>\n",
       "      <th>id</th>\n",
       "      <th>median_speed_kmh</th>\n",
       "    </tr>\n",
       "  </thead>\n",
       "  <tbody>\n",
       "    <tr>\n",
       "      <th>count</th>\n",
       "      <td>3.492100e+04</td>\n",
       "      <td>34921.000000</td>\n",
       "    </tr>\n",
       "    <tr>\n",
       "      <th>mean</th>\n",
       "      <td>3.534541e+07</td>\n",
       "      <td>13.805416</td>\n",
       "    </tr>\n",
       "    <tr>\n",
       "      <th>std</th>\n",
       "      <td>1.104258e+06</td>\n",
       "      <td>7.371394</td>\n",
       "    </tr>\n",
       "    <tr>\n",
       "      <th>min</th>\n",
       "      <td>3.348771e+07</td>\n",
       "      <td>0.000000</td>\n",
       "    </tr>\n",
       "    <tr>\n",
       "      <th>25%</th>\n",
       "      <td>3.439600e+07</td>\n",
       "      <td>8.090000</td>\n",
       "    </tr>\n",
       "    <tr>\n",
       "      <th>50%</th>\n",
       "      <td>3.534913e+07</td>\n",
       "      <td>13.540000</td>\n",
       "    </tr>\n",
       "    <tr>\n",
       "      <th>75%</th>\n",
       "      <td>3.632765e+07</td>\n",
       "      <td>18.640000</td>\n",
       "    </tr>\n",
       "    <tr>\n",
       "      <th>max</th>\n",
       "      <td>3.729380e+07</td>\n",
       "      <td>58.530000</td>\n",
       "    </tr>\n",
       "  </tbody>\n",
       "</table>\n",
       "</div>"
      ],
      "text/plain": [
       "                 id  median_speed_kmh\n",
       "count  3.492100e+04      34921.000000\n",
       "mean   3.534541e+07         13.805416\n",
       "std    1.104258e+06          7.371394\n",
       "min    3.348771e+07          0.000000\n",
       "25%    3.439600e+07          8.090000\n",
       "50%    3.534913e+07         13.540000\n",
       "75%    3.632765e+07         18.640000\n",
       "max    3.729380e+07         58.530000"
      ]
     },
     "execution_count": 4,
     "metadata": {},
     "output_type": "execute_result"
    }
   ],
   "source": [
    "jams_cimahi.describe()"
   ]
  },
  {
   "attachments": {},
   "cell_type": "markdown",
   "metadata": {},
   "source": [
    "## **B. Add Datetime Features**"
   ]
  },
  {
   "cell_type": "code",
   "execution_count": 5,
   "metadata": {},
   "outputs": [],
   "source": [
    "#Converting to datetime type\n",
    "jams_cimahi[\"time\"] = pd.to_datetime(jams_cimahi[\"time\"])"
   ]
  },
  {
   "cell_type": "code",
   "execution_count": 25,
   "metadata": {},
   "outputs": [
    {
     "name": "stdout",
     "output_type": "stream",
     "text": [
      "Data timeframe is from 2022-07-06 00:00:00 to 2022-09-06 00:00:00\n"
     ]
    }
   ],
   "source": [
    "print(\"Data timeframe is from {} to {}\".format(jams_cimahi[\"time\"].min(), jams_cimahi[\"time\"].max()))"
   ]
  },
  {
   "cell_type": "code",
   "execution_count": 7,
   "metadata": {},
   "outputs": [
    {
     "data": {
      "text/html": [
       "<div>\n",
       "<style scoped>\n",
       "    .dataframe tbody tr th:only-of-type {\n",
       "        vertical-align: middle;\n",
       "    }\n",
       "\n",
       "    .dataframe tbody tr th {\n",
       "        vertical-align: top;\n",
       "    }\n",
       "\n",
       "    .dataframe thead th {\n",
       "        text-align: right;\n",
       "    }\n",
       "</style>\n",
       "<table border=\"1\" class=\"dataframe\">\n",
       "  <thead>\n",
       "    <tr style=\"text-align: right;\">\n",
       "      <th></th>\n",
       "      <th>id</th>\n",
       "      <th>time</th>\n",
       "      <th>date</th>\n",
       "      <th>street</th>\n",
       "      <th>median_speed_kmh</th>\n",
       "      <th>geometry</th>\n",
       "      <th>hour</th>\n",
       "      <th>day_type</th>\n",
       "    </tr>\n",
       "  </thead>\n",
       "  <tbody>\n",
       "    <tr>\n",
       "      <th>0</th>\n",
       "      <td>33487712</td>\n",
       "      <td>2022-07-06 00:00:00</td>\n",
       "      <td>2022-07-06</td>\n",
       "      <td>Tol Padaleunyi</td>\n",
       "      <td>37.080</td>\n",
       "      <td>MULTILINESTRING ((107.534217 -6.902122, 107.53...</td>\n",
       "      <td>0</td>\n",
       "      <td>Weekday</td>\n",
       "    </tr>\n",
       "    <tr>\n",
       "      <th>1</th>\n",
       "      <td>33487711</td>\n",
       "      <td>2022-07-06 00:00:00</td>\n",
       "      <td>2022-07-06</td>\n",
       "      <td>Tol Padaleunyi</td>\n",
       "      <td>51.020</td>\n",
       "      <td>LINESTRING (107.534217 -6.902122, 107.534668 -...</td>\n",
       "      <td>0</td>\n",
       "      <td>Weekday</td>\n",
       "    </tr>\n",
       "    <tr>\n",
       "      <th>2</th>\n",
       "      <td>33487713</td>\n",
       "      <td>2022-07-06 02:00:00</td>\n",
       "      <td>2022-07-06</td>\n",
       "      <td>Gerbang Tol Pasteur 2</td>\n",
       "      <td>7.610</td>\n",
       "      <td>MULTILINESTRING ((107.572891 -6.889988, 107.57...</td>\n",
       "      <td>2</td>\n",
       "      <td>Weekday</td>\n",
       "    </tr>\n",
       "    <tr>\n",
       "      <th>3</th>\n",
       "      <td>33487714</td>\n",
       "      <td>2022-07-06 02:00:00</td>\n",
       "      <td>2022-07-06</td>\n",
       "      <td>Tol Padaleunyi</td>\n",
       "      <td>55.690</td>\n",
       "      <td>LINESTRING (107.504788 -6.856284, 107.504752 -...</td>\n",
       "      <td>2</td>\n",
       "      <td>Weekday</td>\n",
       "    </tr>\n",
       "    <tr>\n",
       "      <th>4</th>\n",
       "      <td>33487715</td>\n",
       "      <td>2022-07-06 05:00:00</td>\n",
       "      <td>2022-07-06</td>\n",
       "      <td>Babakan Loa</td>\n",
       "      <td>5.605</td>\n",
       "      <td>MULTILINESTRING ((107.565449 -6.884513, 107.56...</td>\n",
       "      <td>5</td>\n",
       "      <td>Weekday</td>\n",
       "    </tr>\n",
       "  </tbody>\n",
       "</table>\n",
       "</div>"
      ],
      "text/plain": [
       "         id                time        date                 street  \\\n",
       "0  33487712 2022-07-06 00:00:00  2022-07-06         Tol Padaleunyi   \n",
       "1  33487711 2022-07-06 00:00:00  2022-07-06         Tol Padaleunyi   \n",
       "2  33487713 2022-07-06 02:00:00  2022-07-06  Gerbang Tol Pasteur 2   \n",
       "3  33487714 2022-07-06 02:00:00  2022-07-06         Tol Padaleunyi   \n",
       "4  33487715 2022-07-06 05:00:00  2022-07-06            Babakan Loa   \n",
       "\n",
       "   median_speed_kmh                                           geometry  hour  \\\n",
       "0            37.080  MULTILINESTRING ((107.534217 -6.902122, 107.53...     0   \n",
       "1            51.020  LINESTRING (107.534217 -6.902122, 107.534668 -...     0   \n",
       "2             7.610  MULTILINESTRING ((107.572891 -6.889988, 107.57...     2   \n",
       "3            55.690  LINESTRING (107.504788 -6.856284, 107.504752 -...     2   \n",
       "4             5.605  MULTILINESTRING ((107.565449 -6.884513, 107.56...     5   \n",
       "\n",
       "  day_type  \n",
       "0  Weekday  \n",
       "1  Weekday  \n",
       "2  Weekday  \n",
       "3  Weekday  \n",
       "4  Weekday  "
      ]
     },
     "execution_count": 7,
     "metadata": {},
     "output_type": "execute_result"
    }
   ],
   "source": [
    "# Adding datetime features\n",
    "jams_cimahi[\"hour\"] = jams_cimahi[\"time\"].dt.hour\n",
    "jams_cimahi[\"day_type\"] = jams_cimahi[\"time\"].dt.dayofweek + 1 # 1 for Monday, 7 for Sunday\n",
    "jams_cimahi[\"day_type\"] = jams_cimahi[\"day_type\"].apply(lambda x: \"Weekday\" if x < 6 else \"Weekend\")\n",
    "jams_cimahi.head()"
   ]
  },
  {
   "cell_type": "code",
   "execution_count": 8,
   "metadata": {},
   "outputs": [
    {
     "data": {
      "text/plain": [
       "(34921, 8)"
      ]
     },
     "execution_count": 8,
     "metadata": {},
     "output_type": "execute_result"
    }
   ],
   "source": [
    "jams_cimahi.shape"
   ]
  },
  {
   "attachments": {},
   "cell_type": "markdown",
   "metadata": {},
   "source": [
    "## **C. Transform Median Speed**\n",
    "\n",
    "Here since there's possibility of important street having 'missing' median speed value because there's no recorded traffic jam during this short period data, therefore we want to impute the missing value with 0. However to do this it's logical to reciprocate median speed value (1/x) so road with better traffic speed during jam has closer value to 0"
   ]
  },
  {
   "cell_type": "code",
   "execution_count": 9,
   "metadata": {},
   "outputs": [
    {
     "data": {
      "text/plain": [
       "Batu Basal    299\n",
       "Name: street, dtype: int64"
      ]
     },
     "execution_count": 9,
     "metadata": {},
     "output_type": "execute_result"
    }
   ],
   "source": [
    "# Inspecting rows with median speed = 0\n",
    "jams_cimahi[jams_cimahi[\"median_speed_kmh\"] == 0][\"street\"].value_counts()"
   ]
  },
  {
   "attachments": {},
   "cell_type": "markdown",
   "metadata": {},
   "source": [
    "It seems like Batu Basal is the only one with records of traffic speed = 0. This is because during those 2 months of recorded traffic there's a road blockage, probably due to construction. Thus we can remove Batu Basal from clustering"
   ]
  },
  {
   "cell_type": "code",
   "execution_count": 10,
   "metadata": {},
   "outputs": [],
   "source": [
    "jams_cimahi = jams_cimahi[jams_cimahi[\"median_speed_kmh\"] > 0]\n",
    "jams_cimahi[\"median_speed_kmh\"] = np.reciprocal(jams_cimahi.median_speed_kmh)"
   ]
  },
  {
   "attachments": {},
   "cell_type": "markdown",
   "metadata": {},
   "source": [
    "## **D. Aggregate Median Speed**\n",
    "\n",
    "Aggregate median speed by street to create all date-time combination dimensions"
   ]
  },
  {
   "cell_type": "code",
   "execution_count": 11,
   "metadata": {},
   "outputs": [],
   "source": [
    "speed_trend_df = pd.DataFrame(data=list(jams_cimahi.street.unique()), columns=[\"street\"])"
   ]
  },
  {
   "cell_type": "code",
   "execution_count": 12,
   "metadata": {},
   "outputs": [],
   "source": [
    "day_type_range = [\"Weekday\", \"Weekend\"]\n",
    "hour_range = np.arange(6, 21, 1)\n",
    "for day in day_type_range:\n",
    "    for hour in hour_range:\n",
    "        # Filter based on day type and hour\n",
    "        day_hour_filter = (jams_cimahi[\"day_type\"] == day) & (jams_cimahi[\"hour\"] == hour)\n",
    "        feature_df = jams_cimahi[day_hour_filter].groupby(\"street\").agg({\"median_speed_kmh\":np.mean}).reset_index()\n",
    "        feature_df.rename(columns={\"median_speed_kmh\":str(day)+\"_\"+str(hour)}, inplace=True)\n",
    "        # Merge aggregated traffic speed to df\n",
    "        speed_trend_df = pd.merge(speed_trend_df, feature_df, how=\"left\")\n",
    "    "
   ]
  },
  {
   "cell_type": "code",
   "execution_count": 13,
   "metadata": {},
   "outputs": [
    {
     "data": {
      "text/html": [
       "<div>\n",
       "<style scoped>\n",
       "    .dataframe tbody tr th:only-of-type {\n",
       "        vertical-align: middle;\n",
       "    }\n",
       "\n",
       "    .dataframe tbody tr th {\n",
       "        vertical-align: top;\n",
       "    }\n",
       "\n",
       "    .dataframe thead th {\n",
       "        text-align: right;\n",
       "    }\n",
       "</style>\n",
       "<table border=\"1\" class=\"dataframe\">\n",
       "  <thead>\n",
       "    <tr style=\"text-align: right;\">\n",
       "      <th></th>\n",
       "      <th>street</th>\n",
       "      <th>Weekday_6</th>\n",
       "      <th>Weekday_7</th>\n",
       "      <th>Weekday_8</th>\n",
       "      <th>Weekday_9</th>\n",
       "      <th>Weekday_10</th>\n",
       "      <th>Weekday_11</th>\n",
       "      <th>Weekday_12</th>\n",
       "      <th>Weekday_13</th>\n",
       "      <th>Weekday_14</th>\n",
       "      <th>...</th>\n",
       "      <th>Weekend_11</th>\n",
       "      <th>Weekend_12</th>\n",
       "      <th>Weekend_13</th>\n",
       "      <th>Weekend_14</th>\n",
       "      <th>Weekend_15</th>\n",
       "      <th>Weekend_16</th>\n",
       "      <th>Weekend_17</th>\n",
       "      <th>Weekend_18</th>\n",
       "      <th>Weekend_19</th>\n",
       "      <th>Weekend_20</th>\n",
       "    </tr>\n",
       "  </thead>\n",
       "  <tbody>\n",
       "    <tr>\n",
       "      <th>0</th>\n",
       "      <td>Tol Padaleunyi</td>\n",
       "      <td>0.055080</td>\n",
       "      <td>0.078402</td>\n",
       "      <td>0.038739</td>\n",
       "      <td>0.048435</td>\n",
       "      <td>0.021512</td>\n",
       "      <td>0.053312</td>\n",
       "      <td>0.043300</td>\n",
       "      <td>0.055688</td>\n",
       "      <td>0.054806</td>\n",
       "      <td>...</td>\n",
       "      <td>NaN</td>\n",
       "      <td>NaN</td>\n",
       "      <td>0.023510</td>\n",
       "      <td>0.036407</td>\n",
       "      <td>0.036754</td>\n",
       "      <td>0.034468</td>\n",
       "      <td>0.040988</td>\n",
       "      <td>0.043522</td>\n",
       "      <td>0.017243</td>\n",
       "      <td>0.021247</td>\n",
       "    </tr>\n",
       "    <tr>\n",
       "      <th>1</th>\n",
       "      <td>Gerbang Tol Pasteur 2</td>\n",
       "      <td>0.200587</td>\n",
       "      <td>0.159350</td>\n",
       "      <td>0.158442</td>\n",
       "      <td>0.133241</td>\n",
       "      <td>0.131237</td>\n",
       "      <td>0.165703</td>\n",
       "      <td>0.176877</td>\n",
       "      <td>0.153011</td>\n",
       "      <td>0.144458</td>\n",
       "      <td>...</td>\n",
       "      <td>0.178975</td>\n",
       "      <td>0.180366</td>\n",
       "      <td>0.217147</td>\n",
       "      <td>0.204521</td>\n",
       "      <td>0.177176</td>\n",
       "      <td>0.163579</td>\n",
       "      <td>0.175190</td>\n",
       "      <td>0.165679</td>\n",
       "      <td>0.188611</td>\n",
       "      <td>0.227766</td>\n",
       "    </tr>\n",
       "    <tr>\n",
       "      <th>2</th>\n",
       "      <td>Babakan Loa</td>\n",
       "      <td>0.513420</td>\n",
       "      <td>0.158435</td>\n",
       "      <td>0.094967</td>\n",
       "      <td>NaN</td>\n",
       "      <td>0.132303</td>\n",
       "      <td>0.133725</td>\n",
       "      <td>0.115968</td>\n",
       "      <td>0.151308</td>\n",
       "      <td>0.113407</td>\n",
       "      <td>...</td>\n",
       "      <td>0.150439</td>\n",
       "      <td>NaN</td>\n",
       "      <td>0.138964</td>\n",
       "      <td>0.122687</td>\n",
       "      <td>0.127549</td>\n",
       "      <td>0.122788</td>\n",
       "      <td>0.140517</td>\n",
       "      <td>0.137183</td>\n",
       "      <td>0.232019</td>\n",
       "      <td>NaN</td>\n",
       "    </tr>\n",
       "  </tbody>\n",
       "</table>\n",
       "<p>3 rows × 31 columns</p>\n",
       "</div>"
      ],
      "text/plain": [
       "                  street  Weekday_6  Weekday_7  Weekday_8  Weekday_9  \\\n",
       "0         Tol Padaleunyi   0.055080   0.078402   0.038739   0.048435   \n",
       "1  Gerbang Tol Pasteur 2   0.200587   0.159350   0.158442   0.133241   \n",
       "2            Babakan Loa   0.513420   0.158435   0.094967        NaN   \n",
       "\n",
       "   Weekday_10  Weekday_11  Weekday_12  Weekday_13  Weekday_14  ...  \\\n",
       "0    0.021512    0.053312    0.043300    0.055688    0.054806  ...   \n",
       "1    0.131237    0.165703    0.176877    0.153011    0.144458  ...   \n",
       "2    0.132303    0.133725    0.115968    0.151308    0.113407  ...   \n",
       "\n",
       "   Weekend_11  Weekend_12  Weekend_13  Weekend_14  Weekend_15  Weekend_16  \\\n",
       "0         NaN         NaN    0.023510    0.036407    0.036754    0.034468   \n",
       "1    0.178975    0.180366    0.217147    0.204521    0.177176    0.163579   \n",
       "2    0.150439         NaN    0.138964    0.122687    0.127549    0.122788   \n",
       "\n",
       "   Weekend_17  Weekend_18  Weekend_19  Weekend_20  \n",
       "0    0.040988    0.043522    0.017243    0.021247  \n",
       "1    0.175190    0.165679    0.188611    0.227766  \n",
       "2    0.140517    0.137183    0.232019         NaN  \n",
       "\n",
       "[3 rows x 31 columns]"
      ]
     },
     "execution_count": 13,
     "metadata": {},
     "output_type": "execute_result"
    }
   ],
   "source": [
    "speed_trend_df.head(3)"
   ]
  },
  {
   "cell_type": "code",
   "execution_count": 14,
   "metadata": {},
   "outputs": [
    {
     "data": {
      "text/html": [
       "<div>\n",
       "<style scoped>\n",
       "    .dataframe tbody tr th:only-of-type {\n",
       "        vertical-align: middle;\n",
       "    }\n",
       "\n",
       "    .dataframe tbody tr th {\n",
       "        vertical-align: top;\n",
       "    }\n",
       "\n",
       "    .dataframe thead th {\n",
       "        text-align: right;\n",
       "    }\n",
       "</style>\n",
       "<table border=\"1\" class=\"dataframe\">\n",
       "  <thead>\n",
       "    <tr style=\"text-align: right;\">\n",
       "      <th></th>\n",
       "      <th>Weekday_6</th>\n",
       "      <th>Weekday_7</th>\n",
       "      <th>Weekday_8</th>\n",
       "      <th>Weekday_9</th>\n",
       "      <th>Weekday_10</th>\n",
       "      <th>Weekday_11</th>\n",
       "      <th>Weekday_12</th>\n",
       "      <th>Weekday_13</th>\n",
       "      <th>Weekday_14</th>\n",
       "      <th>Weekday_15</th>\n",
       "      <th>...</th>\n",
       "      <th>Weekend_11</th>\n",
       "      <th>Weekend_12</th>\n",
       "      <th>Weekend_13</th>\n",
       "      <th>Weekend_14</th>\n",
       "      <th>Weekend_15</th>\n",
       "      <th>Weekend_16</th>\n",
       "      <th>Weekend_17</th>\n",
       "      <th>Weekend_18</th>\n",
       "      <th>Weekend_19</th>\n",
       "      <th>Weekend_20</th>\n",
       "    </tr>\n",
       "  </thead>\n",
       "  <tbody>\n",
       "    <tr>\n",
       "      <th>count</th>\n",
       "      <td>75.000000</td>\n",
       "      <td>85.000000</td>\n",
       "      <td>72.000000</td>\n",
       "      <td>75.000000</td>\n",
       "      <td>85.000000</td>\n",
       "      <td>84.000000</td>\n",
       "      <td>73.000000</td>\n",
       "      <td>77.000000</td>\n",
       "      <td>87.000000</td>\n",
       "      <td>86.000000</td>\n",
       "      <td>...</td>\n",
       "      <td>75.000000</td>\n",
       "      <td>76.000000</td>\n",
       "      <td>84.000000</td>\n",
       "      <td>83.000000</td>\n",
       "      <td>74.000000</td>\n",
       "      <td>83.000000</td>\n",
       "      <td>72.000000</td>\n",
       "      <td>70.000000</td>\n",
       "      <td>73.000000</td>\n",
       "      <td>59.000000</td>\n",
       "    </tr>\n",
       "    <tr>\n",
       "      <th>mean</th>\n",
       "      <td>0.150831</td>\n",
       "      <td>0.171677</td>\n",
       "      <td>0.129616</td>\n",
       "      <td>0.117430</td>\n",
       "      <td>0.121625</td>\n",
       "      <td>0.119350</td>\n",
       "      <td>0.117024</td>\n",
       "      <td>0.140081</td>\n",
       "      <td>0.132252</td>\n",
       "      <td>0.126853</td>\n",
       "      <td>...</td>\n",
       "      <td>0.120615</td>\n",
       "      <td>0.122137</td>\n",
       "      <td>0.139168</td>\n",
       "      <td>0.136015</td>\n",
       "      <td>0.132192</td>\n",
       "      <td>0.143189</td>\n",
       "      <td>0.120909</td>\n",
       "      <td>0.122723</td>\n",
       "      <td>0.143303</td>\n",
       "      <td>0.111089</td>\n",
       "    </tr>\n",
       "    <tr>\n",
       "      <th>std</th>\n",
       "      <td>0.097250</td>\n",
       "      <td>0.118311</td>\n",
       "      <td>0.072389</td>\n",
       "      <td>0.065342</td>\n",
       "      <td>0.062582</td>\n",
       "      <td>0.060741</td>\n",
       "      <td>0.061828</td>\n",
       "      <td>0.171176</td>\n",
       "      <td>0.092228</td>\n",
       "      <td>0.068310</td>\n",
       "      <td>...</td>\n",
       "      <td>0.053500</td>\n",
       "      <td>0.059079</td>\n",
       "      <td>0.109075</td>\n",
       "      <td>0.083069</td>\n",
       "      <td>0.071824</td>\n",
       "      <td>0.110181</td>\n",
       "      <td>0.079629</td>\n",
       "      <td>0.084834</td>\n",
       "      <td>0.221827</td>\n",
       "      <td>0.065365</td>\n",
       "    </tr>\n",
       "    <tr>\n",
       "      <th>min</th>\n",
       "      <td>0.019145</td>\n",
       "      <td>0.045126</td>\n",
       "      <td>0.036751</td>\n",
       "      <td>0.036232</td>\n",
       "      <td>0.021512</td>\n",
       "      <td>0.043403</td>\n",
       "      <td>0.038926</td>\n",
       "      <td>0.039952</td>\n",
       "      <td>0.033613</td>\n",
       "      <td>0.032379</td>\n",
       "      <td>...</td>\n",
       "      <td>0.043110</td>\n",
       "      <td>0.051125</td>\n",
       "      <td>0.023510</td>\n",
       "      <td>0.036407</td>\n",
       "      <td>0.036754</td>\n",
       "      <td>0.034468</td>\n",
       "      <td>0.038358</td>\n",
       "      <td>0.039534</td>\n",
       "      <td>0.017243</td>\n",
       "      <td>0.021247</td>\n",
       "    </tr>\n",
       "    <tr>\n",
       "      <th>25%</th>\n",
       "      <td>0.086275</td>\n",
       "      <td>0.095266</td>\n",
       "      <td>0.072786</td>\n",
       "      <td>0.072820</td>\n",
       "      <td>0.078249</td>\n",
       "      <td>0.077793</td>\n",
       "      <td>0.069493</td>\n",
       "      <td>0.074157</td>\n",
       "      <td>0.080158</td>\n",
       "      <td>0.080850</td>\n",
       "      <td>...</td>\n",
       "      <td>0.078796</td>\n",
       "      <td>0.082514</td>\n",
       "      <td>0.087132</td>\n",
       "      <td>0.085661</td>\n",
       "      <td>0.086364</td>\n",
       "      <td>0.080100</td>\n",
       "      <td>0.072393</td>\n",
       "      <td>0.075789</td>\n",
       "      <td>0.077111</td>\n",
       "      <td>0.065359</td>\n",
       "    </tr>\n",
       "    <tr>\n",
       "      <th>50%</th>\n",
       "      <td>0.119474</td>\n",
       "      <td>0.145820</td>\n",
       "      <td>0.098205</td>\n",
       "      <td>0.095924</td>\n",
       "      <td>0.106377</td>\n",
       "      <td>0.101732</td>\n",
       "      <td>0.103537</td>\n",
       "      <td>0.104742</td>\n",
       "      <td>0.103964</td>\n",
       "      <td>0.108771</td>\n",
       "      <td>...</td>\n",
       "      <td>0.106724</td>\n",
       "      <td>0.105338</td>\n",
       "      <td>0.115832</td>\n",
       "      <td>0.114548</td>\n",
       "      <td>0.110868</td>\n",
       "      <td>0.117431</td>\n",
       "      <td>0.098790</td>\n",
       "      <td>0.096717</td>\n",
       "      <td>0.105614</td>\n",
       "      <td>0.086281</td>\n",
       "    </tr>\n",
       "    <tr>\n",
       "      <th>75%</th>\n",
       "      <td>0.183936</td>\n",
       "      <td>0.210526</td>\n",
       "      <td>0.191663</td>\n",
       "      <td>0.129084</td>\n",
       "      <td>0.139772</td>\n",
       "      <td>0.143122</td>\n",
       "      <td>0.141243</td>\n",
       "      <td>0.156087</td>\n",
       "      <td>0.157940</td>\n",
       "      <td>0.162929</td>\n",
       "      <td>...</td>\n",
       "      <td>0.147420</td>\n",
       "      <td>0.145580</td>\n",
       "      <td>0.168069</td>\n",
       "      <td>0.155903</td>\n",
       "      <td>0.164686</td>\n",
       "      <td>0.160174</td>\n",
       "      <td>0.142223</td>\n",
       "      <td>0.140315</td>\n",
       "      <td>0.143575</td>\n",
       "      <td>0.135157</td>\n",
       "    </tr>\n",
       "    <tr>\n",
       "      <th>max</th>\n",
       "      <td>0.513420</td>\n",
       "      <td>0.769231</td>\n",
       "      <td>0.306770</td>\n",
       "      <td>0.349650</td>\n",
       "      <td>0.363859</td>\n",
       "      <td>0.372439</td>\n",
       "      <td>0.295686</td>\n",
       "      <td>1.515152</td>\n",
       "      <td>0.749064</td>\n",
       "      <td>0.392698</td>\n",
       "      <td>...</td>\n",
       "      <td>0.277778</td>\n",
       "      <td>0.311526</td>\n",
       "      <td>0.956938</td>\n",
       "      <td>0.550668</td>\n",
       "      <td>0.452689</td>\n",
       "      <td>0.821685</td>\n",
       "      <td>0.546257</td>\n",
       "      <td>0.530687</td>\n",
       "      <td>1.886792</td>\n",
       "      <td>0.309768</td>\n",
       "    </tr>\n",
       "  </tbody>\n",
       "</table>\n",
       "<p>8 rows × 30 columns</p>\n",
       "</div>"
      ],
      "text/plain": [
       "       Weekday_6  Weekday_7  Weekday_8  Weekday_9  Weekday_10  Weekday_11  \\\n",
       "count  75.000000  85.000000  72.000000  75.000000   85.000000   84.000000   \n",
       "mean    0.150831   0.171677   0.129616   0.117430    0.121625    0.119350   \n",
       "std     0.097250   0.118311   0.072389   0.065342    0.062582    0.060741   \n",
       "min     0.019145   0.045126   0.036751   0.036232    0.021512    0.043403   \n",
       "25%     0.086275   0.095266   0.072786   0.072820    0.078249    0.077793   \n",
       "50%     0.119474   0.145820   0.098205   0.095924    0.106377    0.101732   \n",
       "75%     0.183936   0.210526   0.191663   0.129084    0.139772    0.143122   \n",
       "max     0.513420   0.769231   0.306770   0.349650    0.363859    0.372439   \n",
       "\n",
       "       Weekday_12  Weekday_13  Weekday_14  Weekday_15  ...  Weekend_11  \\\n",
       "count   73.000000   77.000000   87.000000   86.000000  ...   75.000000   \n",
       "mean     0.117024    0.140081    0.132252    0.126853  ...    0.120615   \n",
       "std      0.061828    0.171176    0.092228    0.068310  ...    0.053500   \n",
       "min      0.038926    0.039952    0.033613    0.032379  ...    0.043110   \n",
       "25%      0.069493    0.074157    0.080158    0.080850  ...    0.078796   \n",
       "50%      0.103537    0.104742    0.103964    0.108771  ...    0.106724   \n",
       "75%      0.141243    0.156087    0.157940    0.162929  ...    0.147420   \n",
       "max      0.295686    1.515152    0.749064    0.392698  ...    0.277778   \n",
       "\n",
       "       Weekend_12  Weekend_13  Weekend_14  Weekend_15  Weekend_16  Weekend_17  \\\n",
       "count   76.000000   84.000000   83.000000   74.000000   83.000000   72.000000   \n",
       "mean     0.122137    0.139168    0.136015    0.132192    0.143189    0.120909   \n",
       "std      0.059079    0.109075    0.083069    0.071824    0.110181    0.079629   \n",
       "min      0.051125    0.023510    0.036407    0.036754    0.034468    0.038358   \n",
       "25%      0.082514    0.087132    0.085661    0.086364    0.080100    0.072393   \n",
       "50%      0.105338    0.115832    0.114548    0.110868    0.117431    0.098790   \n",
       "75%      0.145580    0.168069    0.155903    0.164686    0.160174    0.142223   \n",
       "max      0.311526    0.956938    0.550668    0.452689    0.821685    0.546257   \n",
       "\n",
       "       Weekend_18  Weekend_19  Weekend_20  \n",
       "count   70.000000   73.000000   59.000000  \n",
       "mean     0.122723    0.143303    0.111089  \n",
       "std      0.084834    0.221827    0.065365  \n",
       "min      0.039534    0.017243    0.021247  \n",
       "25%      0.075789    0.077111    0.065359  \n",
       "50%      0.096717    0.105614    0.086281  \n",
       "75%      0.140315    0.143575    0.135157  \n",
       "max      0.530687    1.886792    0.309768  \n",
       "\n",
       "[8 rows x 30 columns]"
      ]
     },
     "execution_count": 14,
     "metadata": {},
     "output_type": "execute_result"
    }
   ],
   "source": [
    "speed_trend_df.describe()"
   ]
  },
  {
   "attachments": {},
   "cell_type": "markdown",
   "metadata": {},
   "source": [
    "# **2. Data Cleaning**"
   ]
  },
  {
   "attachments": {},
   "cell_type": "markdown",
   "metadata": {},
   "source": [
    "## **A. Reducing Cardinality**\n",
    "\n",
    "Here we'll only include the 'important' streer, which we define as those that have frequent recorded traffic jams (%observation > 1%)"
   ]
  },
  {
   "cell_type": "code",
   "execution_count": 26,
   "metadata": {},
   "outputs": [
    {
     "data": {
      "text/plain": [
       "195"
      ]
     },
     "execution_count": 26,
     "metadata": {},
     "output_type": "execute_result"
    }
   ],
   "source": [
    "len(jams_cimahi[\"street\"].unique())"
   ]
  },
  {
   "cell_type": "code",
   "execution_count": 15,
   "metadata": {},
   "outputs": [],
   "source": [
    "sel_street_df = pd.DataFrame(jams_cimahi[\"street\"].value_counts()/len(jams_cimahi)*100).reset_index()\n",
    "sel_street_df.rename(columns={\"index\":\"street_name\", \"street\":\"perc_observation\"}, inplace=True)\n",
    "sel_street_df = sel_street_df[sel_street_df[\"perc_observation\"] > 1]"
   ]
  },
  {
   "cell_type": "code",
   "execution_count": 16,
   "metadata": {},
   "outputs": [
    {
     "data": {
      "text/plain": [
       "(27, 31)"
      ]
     },
     "execution_count": 16,
     "metadata": {},
     "output_type": "execute_result"
    }
   ],
   "source": [
    "#Filtering speed trend dataframe\n",
    "speed_trend_sel = speed_trend_df[speed_trend_df[\"street\"].isin(list(sel_street_df[\"street_name\"].unique()))].reset_index(drop=True)\n",
    "speed_trend_sel.shape"
   ]
  },
  {
   "cell_type": "code",
   "execution_count": 17,
   "metadata": {},
   "outputs": [
    {
     "data": {
      "text/plain": [
       "<AxesSubplot:>"
      ]
     },
     "execution_count": 17,
     "metadata": {},
     "output_type": "execute_result"
    },
    {
     "data": {
      "image/png": "[encoded data removed]",
      "text/plain": [
       "<Figure size 1440x432 with 3 Axes>"
      ]
     },
     "metadata": {
      "needs_background": "light"
     },
     "output_type": "display_data"
    }
   ],
   "source": [
    "# Display missing value distribution\n",
    "msno.bar(speed_trend_sel, figsize=(20,6))"
   ]
  },
  {
   "attachments": {},
   "cell_type": "markdown",
   "metadata": {},
   "source": [
    "## **B. Handling Missing Values & Data Transformation**\n"
   ]
  },
  {
   "cell_type": "code",
   "execution_count": 18,
   "metadata": {},
   "outputs": [
    {
     "data": {
      "text/plain": [
       "(array([ 92., 384., 182.,  60.,  41.,  17.,   7.,   6.,   0.,   3.]),\n",
       " array([0.01914529, 0.05850545, 0.0978656 , 0.13722576, 0.17658592,\n",
       "        0.21594608, 0.25530624, 0.2946664 , 0.33402656, 0.37338672,\n",
       "        0.41274688]),\n",
       " <BarContainer object of 10 artists>)"
      ]
     },
     "execution_count": 18,
     "metadata": {},
     "output_type": "execute_result"
    },
    {
     "data": {
      "image/png": "[encoded data removed]",
      "text/plain": [
       "<Figure size 432x288 with 1 Axes>"
      ]
     },
     "metadata": {
      "needs_background": "light"
     },
     "output_type": "display_data"
    }
   ],
   "source": [
    "import matplotlib.pyplot as plt\n",
    "plt.hist(np.ravel(speed_trend_sel.iloc[:,1:].values)) # The data is right-skewed"
   ]
  },
  {
   "cell_type": "code",
   "execution_count": 19,
   "metadata": {},
   "outputs": [],
   "source": [
    "# Filling missing values with 0\n",
    "speed_trend_sel = speed_trend_sel.fillna(0)"
   ]
  },
  {
   "cell_type": "code",
   "execution_count": 20,
   "metadata": {},
   "outputs": [],
   "source": [
    "# Separating categorical and numerical columns\n",
    "speed_cat = speed_trend_sel[\"street\"]\n",
    "speed_num = speed_trend_sel.iloc[:, 1:]"
   ]
  },
  {
   "cell_type": "code",
   "execution_count": 21,
   "metadata": {},
   "outputs": [],
   "source": [
    "# Scaling with RobustScaler\n",
    "from sklearn.preprocessing import RobustScaler\n",
    "scaler = RobustScaler()\n",
    "\n",
    "speed_num_transformed = pd.DataFrame(scaler.fit_transform(speed_num), \n",
    "                                       columns = scaler.feature_names_in_)"
   ]
  },
  {
   "cell_type": "code",
   "execution_count": 22,
   "metadata": {},
   "outputs": [
    {
     "data": {
      "text/html": [
       "<div>\n",
       "<style scoped>\n",
       "    .dataframe tbody tr th:only-of-type {\n",
       "        vertical-align: middle;\n",
       "    }\n",
       "\n",
       "    .dataframe tbody tr th {\n",
       "        vertical-align: top;\n",
       "    }\n",
       "\n",
       "    .dataframe thead th {\n",
       "        text-align: right;\n",
       "    }\n",
       "</style>\n",
       "<table border=\"1\" class=\"dataframe\">\n",
       "  <thead>\n",
       "    <tr style=\"text-align: right;\">\n",
       "      <th></th>\n",
       "      <th>street</th>\n",
       "      <th>Weekday_6</th>\n",
       "      <th>Weekday_7</th>\n",
       "      <th>Weekday_8</th>\n",
       "      <th>Weekday_9</th>\n",
       "      <th>Weekday_10</th>\n",
       "      <th>Weekday_11</th>\n",
       "      <th>Weekday_12</th>\n",
       "      <th>Weekday_13</th>\n",
       "      <th>Weekday_14</th>\n",
       "      <th>...</th>\n",
       "      <th>Weekend_11</th>\n",
       "      <th>Weekend_12</th>\n",
       "      <th>Weekend_13</th>\n",
       "      <th>Weekend_14</th>\n",
       "      <th>Weekend_15</th>\n",
       "      <th>Weekend_16</th>\n",
       "      <th>Weekend_17</th>\n",
       "      <th>Weekend_18</th>\n",
       "      <th>Weekend_19</th>\n",
       "      <th>Weekend_20</th>\n",
       "    </tr>\n",
       "  </thead>\n",
       "  <tbody>\n",
       "    <tr>\n",
       "      <th>0</th>\n",
       "      <td>Gerbang Tol Pasteur 2</td>\n",
       "      <td>1.416419</td>\n",
       "      <td>0.698450</td>\n",
       "      <td>1.352741</td>\n",
       "      <td>1.155874</td>\n",
       "      <td>0.841060</td>\n",
       "      <td>2.012960</td>\n",
       "      <td>2.351831</td>\n",
       "      <td>1.950483</td>\n",
       "      <td>1.057126</td>\n",
       "      <td>...</td>\n",
       "      <td>2.542126</td>\n",
       "      <td>2.661304</td>\n",
       "      <td>2.983327</td>\n",
       "      <td>3.570918</td>\n",
       "      <td>2.274561</td>\n",
       "      <td>1.709907</td>\n",
       "      <td>2.584966</td>\n",
       "      <td>1.806230</td>\n",
       "      <td>1.567344</td>\n",
       "      <td>3.380854</td>\n",
       "    </tr>\n",
       "    <tr>\n",
       "      <th>1</th>\n",
       "      <td>Mahar Martanegara</td>\n",
       "      <td>-0.153285</td>\n",
       "      <td>-0.448483</td>\n",
       "      <td>0.000000</td>\n",
       "      <td>-0.367276</td>\n",
       "      <td>-0.162042</td>\n",
       "      <td>0.137770</td>\n",
       "      <td>-0.104619</td>\n",
       "      <td>-0.079209</td>\n",
       "      <td>-0.214221</td>\n",
       "      <td>...</td>\n",
       "      <td>-0.426226</td>\n",
       "      <td>-0.520847</td>\n",
       "      <td>-0.320392</td>\n",
       "      <td>0.391285</td>\n",
       "      <td>0.000000</td>\n",
       "      <td>-0.051771</td>\n",
       "      <td>-0.110619</td>\n",
       "      <td>-0.166919</td>\n",
       "      <td>-0.261399</td>\n",
       "      <td>-0.052792</td>\n",
       "    </tr>\n",
       "    <tr>\n",
       "      <th>2</th>\n",
       "      <td>N11 Jenderal Haji Amir Machmud</td>\n",
       "      <td>-0.439469</td>\n",
       "      <td>-0.713971</td>\n",
       "      <td>-0.474020</td>\n",
       "      <td>-0.819499</td>\n",
       "      <td>-0.534403</td>\n",
       "      <td>-0.580708</td>\n",
       "      <td>-0.549800</td>\n",
       "      <td>-0.665666</td>\n",
       "      <td>-0.664644</td>\n",
       "      <td>...</td>\n",
       "      <td>-0.935676</td>\n",
       "      <td>-1.057801</td>\n",
       "      <td>-0.979060</td>\n",
       "      <td>-1.103045</td>\n",
       "      <td>-0.837536</td>\n",
       "      <td>-0.878052</td>\n",
       "      <td>-0.710628</td>\n",
       "      <td>-0.619284</td>\n",
       "      <td>-0.091564</td>\n",
       "      <td>-0.157548</td>\n",
       "    </tr>\n",
       "    <tr>\n",
       "      <th>3</th>\n",
       "      <td>Jalan Gunung Batu</td>\n",
       "      <td>0.000000</td>\n",
       "      <td>0.403608</td>\n",
       "      <td>0.518056</td>\n",
       "      <td>0.001542</td>\n",
       "      <td>-0.150609</td>\n",
       "      <td>-0.008174</td>\n",
       "      <td>0.000000</td>\n",
       "      <td>0.212351</td>\n",
       "      <td>0.009109</td>\n",
       "      <td>...</td>\n",
       "      <td>0.094236</td>\n",
       "      <td>0.148003</td>\n",
       "      <td>0.014723</td>\n",
       "      <td>-0.172563</td>\n",
       "      <td>-0.051600</td>\n",
       "      <td>0.000000</td>\n",
       "      <td>-0.033502</td>\n",
       "      <td>-0.313475</td>\n",
       "      <td>-0.365763</td>\n",
       "      <td>-0.214854</td>\n",
       "    </tr>\n",
       "    <tr>\n",
       "      <th>4</th>\n",
       "      <td>Jenderal Gatot Subroto</td>\n",
       "      <td>0.129219</td>\n",
       "      <td>0.071971</td>\n",
       "      <td>0.427803</td>\n",
       "      <td>0.231585</td>\n",
       "      <td>1.554622</td>\n",
       "      <td>0.658961</td>\n",
       "      <td>0.084063</td>\n",
       "      <td>1.132302</td>\n",
       "      <td>0.238147</td>\n",
       "      <td>...</td>\n",
       "      <td>0.313228</td>\n",
       "      <td>0.798610</td>\n",
       "      <td>0.307703</td>\n",
       "      <td>0.522826</td>\n",
       "      <td>0.605517</td>\n",
       "      <td>0.495725</td>\n",
       "      <td>-0.009948</td>\n",
       "      <td>0.201655</td>\n",
       "      <td>0.875481</td>\n",
       "      <td>-0.359155</td>\n",
       "    </tr>\n",
       "  </tbody>\n",
       "</table>\n",
       "<p>5 rows × 31 columns</p>\n",
       "</div>"
      ],
      "text/plain": [
       "                           street  Weekday_6  Weekday_7  Weekday_8  Weekday_9  \\\n",
       "0           Gerbang Tol Pasteur 2   1.416419   0.698450   1.352741   1.155874   \n",
       "1               Mahar Martanegara  -0.153285  -0.448483   0.000000  -0.367276   \n",
       "2  N11 Jenderal Haji Amir Machmud  -0.439469  -0.713971  -0.474020  -0.819499   \n",
       "3               Jalan Gunung Batu   0.000000   0.403608   0.518056   0.001542   \n",
       "4          Jenderal Gatot Subroto   0.129219   0.071971   0.427803   0.231585   \n",
       "\n",
       "   Weekday_10  Weekday_11  Weekday_12  Weekday_13  Weekday_14  ...  \\\n",
       "0    0.841060    2.012960    2.351831    1.950483    1.057126  ...   \n",
       "1   -0.162042    0.137770   -0.104619   -0.079209   -0.214221  ...   \n",
       "2   -0.534403   -0.580708   -0.549800   -0.665666   -0.664644  ...   \n",
       "3   -0.150609   -0.008174    0.000000    0.212351    0.009109  ...   \n",
       "4    1.554622    0.658961    0.084063    1.132302    0.238147  ...   \n",
       "\n",
       "   Weekend_11  Weekend_12  Weekend_13  Weekend_14  Weekend_15  Weekend_16  \\\n",
       "0    2.542126    2.661304    2.983327    3.570918    2.274561    1.709907   \n",
       "1   -0.426226   -0.520847   -0.320392    0.391285    0.000000   -0.051771   \n",
       "2   -0.935676   -1.057801   -0.979060   -1.103045   -0.837536   -0.878052   \n",
       "3    0.094236    0.148003    0.014723   -0.172563   -0.051600    0.000000   \n",
       "4    0.313228    0.798610    0.307703    0.522826    0.605517    0.495725   \n",
       "\n",
       "   Weekend_17  Weekend_18  Weekend_19  Weekend_20  \n",
       "0    2.584966    1.806230    1.567344    3.380854  \n",
       "1   -0.110619   -0.166919   -0.261399   -0.052792  \n",
       "2   -0.710628   -0.619284   -0.091564   -0.157548  \n",
       "3   -0.033502   -0.313475   -0.365763   -0.214854  \n",
       "4   -0.009948    0.201655    0.875481   -0.359155  \n",
       "\n",
       "[5 rows x 31 columns]"
      ]
     },
     "execution_count": 22,
     "metadata": {},
     "output_type": "execute_result"
    }
   ],
   "source": [
    "# Combining all columns\n",
    "speed_transformed = pd.concat([speed_cat, speed_num_transformed], axis=1)\n",
    "speed_transformed.head()"
   ]
  },
  {
   "cell_type": "code",
   "execution_count": 23,
   "metadata": {},
   "outputs": [],
   "source": [
    "# Exporting clean dataset (without scaling)\n",
    "# speed_trend_sel.to_csv(\"Dataset_cleaned/agg_jams_speed_Kota_Cimahi_plotting.csv\",index = False)"
   ]
  },
  {
   "cell_type": "code",
   "execution_count": 24,
   "metadata": {},
   "outputs": [],
   "source": [
    "# Exporting clean dataset (with scaling)\n",
    "# speed_transformed.to_csv(\"Dataset_cleaned/agg_jams_speed_Kota_Cimahi_clustering.csv\",index = False)"
   ]
  }
 ],
 "metadata": {
  "kernelspec": {
   "display_name": "Python 3",
   "language": "python",
   "name": "python3"
  },
  "language_info": {
   "codemirror_mode": {
    "name": "ipython",
    "version": 3
   },
   "file_extension": ".py",
   "mimetype": "text/x-python",
   "name": "python",
   "nbconvert_exporter": "python",
   "pygments_lexer": "ipython3",
   "version": "3.10.0"
  },
  "orig_nbformat": 4,
  "vscode": {
   "interpreter": {
    "hash": "78d3879e55fa46ad822c0717174859e77a1b80e72b088d1f45bc1ee831f1082d"
   }
  }
 },
 "nbformat": 4,
 "nbformat_minor": 2
}
